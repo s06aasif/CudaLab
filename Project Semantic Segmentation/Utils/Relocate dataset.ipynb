{
 "cells": [
  {
   "cell_type": "markdown",
   "id": "aba4268e-e9c6-4f34-92e0-ca2387f12429",
   "metadata": {},
   "source": [
    "# Dataset Relocation Code "
   ]
  },
  {
   "cell_type": "code",
   "execution_count": null,
   "id": "f25f5acd-f603-4826-b3bd-7f7c5eaaec5d",
   "metadata": {},
   "outputs": [],
   "source": [
    "import os\n",
    "import shutil\n",
    "import re\n",
    "from concurrent.futures import ThreadPoolExecutor"
   ]
  },
  {
   "cell_type": "code",
   "execution_count": 1,
   "id": "f0f7dd01-5d72-4d55-b4c1-e22d86b156b0",
   "metadata": {},
   "outputs": [],
   "source": [
    "def should_copy_file(file_name):\n",
    "    \"\"\"Determine if a file should be copied based on its name.\"\"\"\n",
    "    if file_name == \"meta.pkl\":\n",
    "        return True\n",
    "    \n",
    "    parts = file_name.split('_')\n",
    "    if len(parts) > 1 and parts[-1].split('.')[0].isdigit():\n",
    "        numeric_part = int(parts[-1].split('.')[0])\n",
    "        if numeric_part <= 5:\n",
    "            return True\n",
    "    return False\n",
    "\n",
    "def copy_file(source, destination):\n",
    "    \"\"\"Copy a single file from source to destination if it doesn't already exist.\"\"\"\n",
    "    if not os.path.exists(destination):  \n",
    "        shutil.copy2(source, destination)\n",
    "\n",
    "def copy_directory(source_directory, destination_directory):\n",
    "    \"\"\"Copy selected files from source directory to destination directory in parallel.\"\"\"\n",
    "    os.makedirs(destination_directory, exist_ok=True)\n",
    "    with ThreadPoolExecutor() as executor:\n",
    "        for root, dirs, files in os.walk(source_directory):\n",
    "            for name in files:\n",
    "                if should_copy_file(name):\n",
    "                    source_file = os.path.join(root, name)\n",
    "                    relative_path = os.path.relpath(source_file, source_directory)\n",
    "                    destination_file = os.path.join(destination_directory, relative_path)\n",
    "                    os.makedirs(os.path.dirname(destination_file), exist_ok=True)\n",
    "                    executor.submit(copy_file, source_file, destination_file)\n",
    "            \n",
    "            for name in dirs:\n",
    "                source_dir = os.path.join(root, name)\n",
    "                relative_path = os.path.relpath(source_dir, source_directory)\n",
    "                destination_dir = os.path.join(destination_directory, relative_path)\n",
    "                os.makedirs(destination_dir, exist_ok=True)\n",
    "\n",
    "\n"
   ]
  },
  {
   "cell_type": "code",
   "execution_count": null,
   "id": "da7a96d9-eb4d-4d31-baeb-92d8c627a412",
   "metadata": {},
   "outputs": [],
   "source": [
    "source_directory = '/home/nfs/inf6/data/datasets/Carla_Moritz/SyncAngel3'\n",
    "destination_directory = '/home/user/asifa0/Project/CARLABase'\n",
    "\n",
    "copy_directory(source_directory, destination_directory)"
   ]
  },
  {
   "cell_type": "markdown",
   "id": "f51e3220-6561-4930-825f-7c9543171a06",
   "metadata": {},
   "source": [
    "# Code to Delete any extra files of frames greater than 6"
   ]
  },
  {
   "cell_type": "code",
   "execution_count": 4,
   "id": "534f2447-d401-43de-a727-62a7c36b5028",
   "metadata": {},
   "outputs": [],
   "source": [
    "def is_number_greater_than_005(file_name):\n",
    "    \"\"\"\n",
    "    Check if the numeric part of the file name is greater than 005.\n",
    "    This function assumes that the file name format includes an underscore\n",
    "    followed by a number just before the file extension.\n",
    "    \"\"\"\n",
    "    match = re.search(r\"_(\\d+)\\.\\w+$\", file_name)\n",
    "    if match:\n",
    "        number = int(match.group(1))\n",
    "        return number > 5\n",
    "    return False\n",
    "\n",
    "def delete_files_in_seq_directories(root_directory):\n",
    "    \"\"\"\n",
    "    Iterate over the directories and subdirectories starting from root_directory,\n",
    "    and delete files with a numeric part greater than 005 in their names\n",
    "    within each directory that starts with \"seq_\".\n",
    "    \"\"\"\n",
    "    for root, dirs, files in os.walk(root_directory):\n",
    "        # Check if the current directory is a 'seq' directory\n",
    "        if os.path.basename(root).startswith(\"seq_\"):\n",
    "            for file in files:\n",
    "                if is_number_greater_than_005(file):\n",
    "                    file_path = os.path.join(root, file)\n",
    "                    os.remove(file_path)\n",
    "                    print(f\"Deleted: {file_path}\")\n"
   ]
  },
  {
   "cell_type": "code",
   "execution_count": null,
   "id": "352495e5-215e-469b-b372-c831959f1cd9",
   "metadata": {},
   "outputs": [],
   "source": [
    "# Define the root directory of your dataset\n",
    "root_directory = '/home/user/asifa0/Project/CARLABase'\n",
    "\n",
    "# Execute the deletion process\n",
    "delete_files_in_seq_directories(root_directory)"
   ]
  }
 ],
 "metadata": {
  "kernelspec": {
   "display_name": "Python 3 (ipykernel)",
   "language": "python",
   "name": "python3"
  },
  "language_info": {
   "codemirror_mode": {
    "name": "ipython",
    "version": 3
   },
   "file_extension": ".py",
   "mimetype": "text/x-python",
   "name": "python",
   "nbconvert_exporter": "python",
   "pygments_lexer": "ipython3",
   "version": "3.8.8"
  }
 },
 "nbformat": 4,
 "nbformat_minor": 5
}
