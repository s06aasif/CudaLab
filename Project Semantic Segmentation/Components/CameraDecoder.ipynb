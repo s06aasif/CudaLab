{
 "cells": [
  {
   "cell_type": "code",
   "execution_count": 2,
   "id": "e2aec1cb-5c00-41fd-85b8-2f54cfe168d7",
   "metadata": {},
   "outputs": [
    {
     "name": "stdout",
     "output_type": "stream",
     "text": [
      "[NbConvertApp] Converting notebook CameraDecoder.ipynb to python\n",
      "[NbConvertApp] Writing 717 bytes to CameraDecoder.py\n"
     ]
    }
   ],
   "source": [
    "#!jupyter nbconvert --to python CameraDecoder.ipynb"
   ]
  },
  {
   "cell_type": "code",
   "execution_count": 1,
   "id": "87af464b-5c2d-46a8-8020-68f96ea9fdff",
   "metadata": {},
   "outputs": [],
   "source": [
    "import torch.nn as nn\n",
    "class CameraDecoder(nn.Module):\n",
    "    def __init__(self, input_size, hidden_size):\n",
    "        super(CameraDecoder, self).__init__()\n",
    "        self.fc1 = nn.Linear(input_size, hidden_size)\n",
    "        self.fc2 = nn.Linear(hidden_size, 96)  \n",
    "        self.relu = nn.ReLU()\n",
    "\n",
    "    def forward(self, x):\n",
    "        x = self.relu(self.fc1(x))\n",
    "        x = self.fc2(x)\n",
    "        x = x.view(-1, 6, 4, 4)\n",
    "        return x"
   ]
  },
  {
   "cell_type": "code",
   "execution_count": null,
   "id": "6551d995-6a3e-4e9a-9f24-1f4b6f664110",
   "metadata": {},
   "outputs": [],
   "source": []
  },
  {
   "cell_type": "code",
   "execution_count": null,
   "id": "cf0618b0-8df4-4566-937d-24627155c4da",
   "metadata": {},
   "outputs": [],
   "source": []
  }
 ],
 "metadata": {
  "kernelspec": {
   "display_name": "Python 3 (ipykernel)",
   "language": "python",
   "name": "python3"
  },
  "language_info": {
   "codemirror_mode": {
    "name": "ipython",
    "version": 3
   },
   "file_extension": ".py",
   "mimetype": "text/x-python",
   "name": "python",
   "nbconvert_exporter": "python",
   "pygments_lexer": "ipython3",
   "version": "3.8.8"
  }
 },
 "nbformat": 4,
 "nbformat_minor": 5
}
