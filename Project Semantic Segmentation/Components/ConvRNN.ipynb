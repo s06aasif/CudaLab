{
 "cells": [
  {
   "cell_type": "code",
   "execution_count": 1,
   "id": "ee22c5e5-4bfb-4a78-bda1-c02672b52b34",
   "metadata": {},
   "outputs": [
    {
     "name": "stdout",
     "output_type": "stream",
     "text": [
      "[NbConvertApp] Converting notebook ConvRNN.ipynb to python\n",
      "[NbConvertApp] Writing 3122 bytes to ConvRNN.py\n"
     ]
    }
   ],
   "source": [
    "#!jupyter nbconvert --to python ConvRNN.ipynb"
   ]
  },
  {
   "cell_type": "code",
   "execution_count": 2,
   "id": "db64b930-936f-4323-9f00-b12cccea0eb8",
   "metadata": {},
   "outputs": [],
   "source": [
    "import torch\n",
    "import torch.nn as nn"
   ]
  },
  {
   "cell_type": "code",
   "execution_count": 4,
   "id": "ea074f73-38b7-4003-9ba1-98bd05ef3ac8",
   "metadata": {},
   "outputs": [],
   "source": [
    "class ConvLSTM(nn.Module):\n",
    "    def __init__(self, in_channels, hidden_channels, kernel_size, stride=1):\n",
    "        super(ConvLSTM, self).__init__()\n",
    "        self.in_channels = in_channels\n",
    "        self.hidden_channels = hidden_channels\n",
    "        self.kernel_size = kernel_size\n",
    "        self.stride = stride\n",
    "        self.padding = kernel_size // 2\n",
    "        \n",
    "\n",
    "        self.conv = nn.Conv2d(\n",
    "            in_channels=in_channels + hidden_channels,\n",
    "            out_channels=4 * hidden_channels,\n",
    "            kernel_size=kernel_size,\n",
    "            stride=stride,\n",
    "            padding=self.padding,\n",
    "            bias=True\n",
    "        )\n",
    "        \n",
    "        \n",
    "    def forward(self, x, hidden=None):\n",
    "        \"\"\"\n",
    "        x: tensor of shape (batch_size, seq_len, channels, height, width)\n",
    "        hidden: a tuple of the hidden and cell states, each of shape (batch_size, hidden_channels, height, width)\n",
    "        \"\"\"\n",
    "        batch_size, seq_len, _, height, width = x.size()\n",
    "\n",
    "        if hidden is None:\n",
    "            h_t, c_t = (torch.zeros(batch_size, self.hidden_channels, height, width, device=x.device),\n",
    "                        torch.zeros(batch_size, self.hidden_channels, height, width, device=x.device))\n",
    "        else:\n",
    "            h_t, c_t = hidden\n",
    "\n",
    "        output_inner = []\n",
    "        depth_maps_inner = []  \n",
    "        for t in range(seq_len):\n",
    "            x_t = x[:, t, :, :, :]\n",
    "            combined = torch.cat((x_t, h_t), dim=1)  # concatenate along channel axis\n",
    "            gates = self.conv(combined)\n",
    "            i, f, g, o = torch.split(gates, self.hidden_channels, dim=1)\n",
    "            i = torch.sigmoid(i)\n",
    "            f = torch.sigmoid(f)\n",
    "            g = torch.tanh(g)\n",
    "            o = torch.sigmoid(o)\n",
    "            c_t = f * c_t + i * g\n",
    "            h_t = o * torch.tanh(c_t)\n",
    "            output_inner.append(h_t)\n",
    "            \n",
    "        output = torch.stack(output_inner, dim=1)  \n",
    "        \n",
    "        return output, (h_t, c_t)\n",
    "    \n",
    "    \n",
    "    def init_hidden(self, batch_size, height, width):\n",
    "        \"\"\"\n",
    "        Initializes hidden and cell states.\n",
    "        \"\"\"\n",
    "        return (torch.zeros(batch_size, self.hidden_channels, height, width, device=self.conv.weight.device),\n",
    "                torch.zeros(batch_size, self.hidden_channels, height, width, device=self.conv.weight.device))"
   ]
  },
  {
   "cell_type": "code",
   "execution_count": null,
   "id": "57021151-a31e-44ed-b546-531ce1063c61",
   "metadata": {},
   "outputs": [],
   "source": []
  },
  {
   "cell_type": "code",
   "execution_count": null,
   "id": "1901d27f-bd20-4313-9c4d-4b0f2e8f9541",
   "metadata": {},
   "outputs": [],
   "source": []
  }
 ],
 "metadata": {
  "kernelspec": {
   "display_name": "Python 3 (ipykernel)",
   "language": "python",
   "name": "python3"
  },
  "language_info": {
   "codemirror_mode": {
    "name": "ipython",
    "version": 3
   },
   "file_extension": ".py",
   "mimetype": "text/x-python",
   "name": "python",
   "nbconvert_exporter": "python",
   "pygments_lexer": "ipython3",
   "version": "3.8.8"
  }
 },
 "nbformat": 4,
 "nbformat_minor": 5
}
