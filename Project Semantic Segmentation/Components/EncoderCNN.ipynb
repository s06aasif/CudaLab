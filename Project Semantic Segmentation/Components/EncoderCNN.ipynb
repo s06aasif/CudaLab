{
 "cells": [
  {
   "cell_type": "code",
   "execution_count": 9,
   "id": "3c598a39-3527-4c49-b95b-103ca4b3a69c",
   "metadata": {},
   "outputs": [
    {
     "name": "stdout",
     "output_type": "stream",
     "text": [
      "[NbConvertApp] Converting notebook EncoderCNN.ipynb to python\n",
      "[NbConvertApp] Writing 1065 bytes to EncoderCNN.py\n"
     ]
    }
   ],
   "source": [
    "#!jupyter nbconvert --to python EncoderCNN.ipynb"
   ]
  },
  {
   "cell_type": "code",
   "execution_count": 10,
   "id": "6fd796b9-d1fa-4d7f-a697-684795d74efd",
   "metadata": {},
   "outputs": [],
   "source": [
    "import torch.nn as nn"
   ]
  },
  {
   "cell_type": "code",
   "execution_count": 11,
   "id": "3ae3f143-60cb-4a80-9559-de857abd67ce",
   "metadata": {},
   "outputs": [],
   "source": [
    "import torch.nn as nn\n",
    "class Encoder(nn.Module):\n",
    "    def __init__(self):\n",
    "        super(Encoder, self).__init__()\n",
    "        # Downnsampling Images\n",
    "        self.features = nn.Sequential(\n",
    "            nn.Conv2d(3, 64, kernel_size=3, stride=2, padding=1), \n",
    "            nn.ReLU(inplace=True), \n",
    "            nn.MaxPool2d(kernel_size=2, stride=2),  \n",
    "        )\n",
    "        \n",
    "    def forward(self, x):\n",
    "        x = self.features(x)\n",
    "        return x\n"
   ]
  },
  {
   "cell_type": "code",
   "execution_count": null,
   "id": "d4cf42d1-2504-4bc8-a9d0-8ab2cc5c1443",
   "metadata": {},
   "outputs": [],
   "source": []
  },
  {
   "cell_type": "code",
   "execution_count": null,
   "id": "8aa508d7-2d75-4c35-8581-7043e5ae5d99",
   "metadata": {},
   "outputs": [],
   "source": []
  },
  {
   "cell_type": "code",
   "execution_count": null,
   "id": "98eea015-414b-4b4b-89a6-f3bd6ba44e68",
   "metadata": {},
   "outputs": [],
   "source": []
  },
  {
   "cell_type": "code",
   "execution_count": null,
   "id": "5ee120f1-cc0b-4cdb-a67f-8e3c76d310bc",
   "metadata": {},
   "outputs": [],
   "source": []
  },
  {
   "cell_type": "code",
   "execution_count": null,
   "id": "77ebacdd-2224-4687-9813-236c8e4b8708",
   "metadata": {},
   "outputs": [],
   "source": []
  },
  {
   "cell_type": "code",
   "execution_count": null,
   "id": "add8938b-1de7-4962-ad59-38cd923d8b06",
   "metadata": {},
   "outputs": [],
   "source": []
  },
  {
   "cell_type": "code",
   "execution_count": null,
   "id": "e4024448-0c80-480f-b78e-d021e016059a",
   "metadata": {},
   "outputs": [],
   "source": []
  },
  {
   "cell_type": "code",
   "execution_count": null,
   "id": "16c8c7e2-c5a1-44f5-ae8b-4ac42fe9ff6e",
   "metadata": {},
   "outputs": [],
   "source": []
  }
 ],
 "metadata": {
  "kernelspec": {
   "display_name": "Python 3 (ipykernel)",
   "language": "python",
   "name": "python3"
  },
  "language_info": {
   "codemirror_mode": {
    "name": "ipython",
    "version": 3
   },
   "file_extension": ".py",
   "mimetype": "text/x-python",
   "name": "python",
   "nbconvert_exporter": "python",
   "pygments_lexer": "ipython3",
   "version": "3.8.8"
  }
 },
 "nbformat": 4,
 "nbformat_minor": 5
}
