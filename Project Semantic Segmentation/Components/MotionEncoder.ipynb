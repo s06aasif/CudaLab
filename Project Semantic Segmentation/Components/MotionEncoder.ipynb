{
 "cells": [
  {
   "cell_type": "code",
   "execution_count": 7,
   "id": "4186dbc4-c96e-4b70-bda2-6d8ec8d9e926",
   "metadata": {},
   "outputs": [
    {
     "name": "stdout",
     "output_type": "stream",
     "text": [
      "[NbConvertApp] Converting notebook MotionEncoder.ipynb to python\n",
      "[NbConvertApp] Writing 720 bytes to MotionEncoder.py\n"
     ]
    }
   ],
   "source": [
    "#!jupyter nbconvert --to python MotionEncoder.ipynb"
   ]
  },
  {
   "cell_type": "code",
   "execution_count": 9,
   "id": "e213c6d8-e726-4a8e-ad10-b6293bda3534",
   "metadata": {},
   "outputs": [],
   "source": [
    "import torch\n",
    "import torch.nn as nn\n",
    "class MotionEncoder(nn.Module):\n",
    "    def __init__(self, in_channels, hidden_channels, kernel_size = 3):\n",
    "        super(MotionEncoder, self).__init__()\n",
    "        self.conv = nn.Conv2d(in_channels, hidden_channels, kernel_size=kernel_size, padding=kernel_size // 2)\n",
    "\n",
    "    def forward(self, current_features, optical_flow):\n",
    "        _, _, H, W = current_features.shape\n",
    "        optical_flow_resized = F.interpolate(optical_flow, size=(H, W), mode='bilinear', align_corners=False)\n",
    "        # Concatenate the features along the channel dimension with the optical flow\n",
    "        combined_features = torch.cat([current_features, optical_flow_resized], dim=1)\n",
    "        return self.conv(combined_features)\n"
   ]
  },
  {
   "cell_type": "code",
   "execution_count": null,
   "id": "def0dcc2-c656-4987-9570-c9e5553f2970",
   "metadata": {},
   "outputs": [],
   "source": []
  },
  {
   "cell_type": "code",
   "execution_count": null,
   "id": "0f8f08e6-41b0-4153-b2ec-6d92c03caa7a",
   "metadata": {},
   "outputs": [],
   "source": []
  }
 ],
 "metadata": {
  "kernelspec": {
   "display_name": "Python 3 (ipykernel)",
   "language": "python",
   "name": "python3"
  },
  "language_info": {
   "codemirror_mode": {
    "name": "ipython",
    "version": 3
   },
   "file_extension": ".py",
   "mimetype": "text/x-python",
   "name": "python",
   "nbconvert_exporter": "python",
   "pygments_lexer": "ipython3",
   "version": "3.8.8"
  }
 },
 "nbformat": 4,
 "nbformat_minor": 5
}
