{
 "cells": [
  {
   "cell_type": "code",
   "execution_count": 22,
   "id": "7ba9f5cf-6191-48a7-a447-3a2d1e077c0d",
   "metadata": {},
   "outputs": [
    {
     "name": "stdout",
     "output_type": "stream",
     "text": [
      "[NbConvertApp] Converting notebook CameraEncoder.ipynb to python\n",
      "[NbConvertApp] Writing 1228 bytes to CameraEncoder.py\n"
     ]
    }
   ],
   "source": [
    "#!jupyter nbconvert --to python CameraEncoder.ipynb"
   ]
  },
  {
   "cell_type": "code",
   "execution_count": 21,
   "id": "74326822-3c88-4822-932c-b2d4f1d4e522",
   "metadata": {},
   "outputs": [],
   "source": [
    "import torch\n",
    "import torch.nn as nn\n",
    "import torch.nn.functional as F\n",
    "\n",
    "class CameraEncoder(nn.Module):\n",
    "    def __init__(self, input_channels, output_channels=6):\n",
    "        super(CameraEncoder, self).__init__()\n",
    "        self.conv1 = nn.Conv2d(input_channels, 128, kernel_size=3, stride=1, padding=1)\n",
    "        self.conv2 = nn.Conv2d(128, 64, kernel_size=3, stride=1, padding=1)\n",
    "        self.conv3 = nn.Conv2d(64, output_channels, kernel_size=3, stride=2, padding=1)  \n",
    "        self.pool = nn.MaxPool2d(2, 2)  \n",
    "        self.adjust_pool = nn.AdaptiveAvgPool2d((4, 4))  \n",
    "\n",
    "    def forward(self, x):\n",
    "        x = F.relu(self.conv1(x))\n",
    "        x = self.pool(x)  # Downsampling\n",
    "        x = F.relu(self.conv2(x))\n",
    "        x = self.pool(x)  # Further downsampling\n",
    "        x = F.relu(self.conv3(x))\n",
    "        x = self.adjust_pool(x)  # Directly achieve 4x4 output, focusing on adjusting the width.\n",
    "        return x\n"
   ]
  },
  {
   "cell_type": "code",
   "execution_count": null,
   "id": "1efc2e17-0106-44a5-8391-c17c067792af",
   "metadata": {},
   "outputs": [],
   "source": []
  }
 ],
 "metadata": {
  "kernelspec": {
   "display_name": "Python 3 (ipykernel)",
   "language": "python",
   "name": "python3"
  },
  "language_info": {
   "codemirror_mode": {
    "name": "ipython",
    "version": 3
   },
   "file_extension": ".py",
   "mimetype": "text/x-python",
   "name": "python",
   "nbconvert_exporter": "python",
   "pygments_lexer": "ipython3",
   "version": "3.8.8"
  }
 },
 "nbformat": 4,
 "nbformat_minor": 5
}
