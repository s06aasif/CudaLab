{
 "cells": [
  {
   "cell_type": "code",
   "execution_count": 7,
   "id": "78372921-e788-45ca-b49a-141dbe5c174e",
   "metadata": {},
   "outputs": [
    {
     "name": "stdout",
     "output_type": "stream",
     "text": [
      "[NbConvertApp] Converting notebook RNN.ipynb to python\n",
      "[NbConvertApp] Writing 738 bytes to RNN.py\n"
     ]
    }
   ],
   "source": [
    "#!jupyter nbconvert --to python RNN.ipynb"
   ]
  },
  {
   "cell_type": "code",
   "execution_count": 5,
   "id": "10e39a6f-24a1-4670-9708-1924468d9bb3",
   "metadata": {},
   "outputs": [],
   "source": []
  },
  {
   "cell_type": "code",
   "execution_count": 6,
   "id": "f72e4813-acd9-4389-a159-ba35e0313592",
   "metadata": {},
   "outputs": [],
   "source": [
    "import torch\n",
    "import torch.nn as nn\n",
    "class EgoMotionRNN(nn.Module):\n",
    "    def __init__(self, hidden_size, output_size):\n",
    "        super(EgoMotionRNN, self).__init__()\n",
    "        self.hidden_size = hidden_size\n",
    "        self.rnn = nn.LSTM(32, hidden_size, batch_first=True)\n",
    "        self.fc = nn.Linear(hidden_size, output_size)\n",
    "\n",
    "    def forward(self, combined_input):\n",
    "        outputs, (hn, cn) = self.rnn(combined_input)\n",
    "        output_sequence = self.fc(outputs)\n",
    "        return output_sequence\n"
   ]
  },
  {
   "cell_type": "code",
   "execution_count": null,
   "id": "6ca0875b-ea4b-456f-a65d-baeaf23040ab",
   "metadata": {},
   "outputs": [],
   "source": []
  }
 ],
 "metadata": {
  "kernelspec": {
   "display_name": "Python 3 (ipykernel)",
   "language": "python",
   "name": "python3"
  },
  "language_info": {
   "codemirror_mode": {
    "name": "ipython",
    "version": 3
   },
   "file_extension": ".py",
   "mimetype": "text/x-python",
   "name": "python",
   "nbconvert_exporter": "python",
   "pygments_lexer": "ipython3",
   "version": "3.8.8"
  }
 },
 "nbformat": 4,
 "nbformat_minor": 5
}
