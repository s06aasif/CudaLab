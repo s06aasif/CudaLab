{
 "cells": [
  {
   "cell_type": "code",
   "execution_count": 6,
   "id": "68d566ce-0cbb-4eaf-9b79-824e9e3977fb",
   "metadata": {},
   "outputs": [
    {
     "name": "stdout",
     "output_type": "stream",
     "text": [
      "[NbConvertApp] Converting notebook DepthMap.ipynb to python\n",
      "[NbConvertApp] Writing 1297 bytes to DepthMap.py\n"
     ]
    }
   ],
   "source": [
    "#!jupyter nbconvert --to python DepthMap.ipynb"
   ]
  },
  {
   "cell_type": "code",
   "execution_count": 5,
   "id": "820b3334-c96d-4751-aa7d-8cb4eb4e455f",
   "metadata": {},
   "outputs": [],
   "source": [
    "import torch.nn as nn\n",
    "import torch.nn.functional as F\n",
    "class DepthDecoder(nn.Module):\n",
    "    def __init__(self, input_channels, depth_channels=1):\n",
    "        super(DepthDecoder, self).__init__()\n",
    "        self.upsample1 = nn.ConvTranspose2d(input_channels, 32, kernel_size=3, stride=2, padding=1, output_padding=1)\n",
    "        self.upsample2 = nn.ConvTranspose2d(32, depth_channels, kernel_size=3, stride=2, padding=1, output_padding=1)\n",
    "        self.depth_conv = nn.Conv2d(depth_channels, depth_channels, kernel_size=3, stride=1, padding=1)\n",
    "\n",
    "    def forward(self, x):\n",
    "        x = self.upsample1(x)\n",
    "        x = F.relu(x)\n",
    "        x = self.upsample2(x)\n",
    "        x = F.relu(x)\n",
    "        x = self.depth_conv(x)\n",
    "        return x\n"
   ]
  },
  {
   "cell_type": "code",
   "execution_count": null,
   "id": "4aacbfaf-54d1-475a-b33c-f4514396ffb6",
   "metadata": {},
   "outputs": [],
   "source": []
  }
 ],
 "metadata": {
  "kernelspec": {
   "display_name": "Python 3 (ipykernel)",
   "language": "python",
   "name": "python3"
  },
  "language_info": {
   "codemirror_mode": {
    "name": "ipython",
    "version": 3
   },
   "file_extension": ".py",
   "mimetype": "text/x-python",
   "name": "python",
   "nbconvert_exporter": "python",
   "pygments_lexer": "ipython3",
   "version": "3.8.8"
  }
 },
 "nbformat": 4,
 "nbformat_minor": 5
}
