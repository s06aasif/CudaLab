{
 "cells": [
  {
   "cell_type": "code",
   "execution_count": 30,
   "id": "ea54424b-4403-407e-8ccc-a77b14e37b40",
   "metadata": {},
   "outputs": [
    {
     "name": "stdout",
     "output_type": "stream",
     "text": [
      "[NbConvertApp] Converting notebook Decoder.ipynb to python\n",
      "[NbConvertApp] Writing 2164 bytes to Decoder.py\n"
     ]
    }
   ],
   "source": [
    "#!jupyter nbconvert --to python Decoder.ipynb"
   ]
  },
  {
   "cell_type": "code",
   "execution_count": 29,
   "id": "d9004fc7-bdac-4e0b-824c-5397b68c632f",
   "metadata": {},
   "outputs": [],
   "source": [
    "import torch\n",
    "import torch.nn as nn\n",
    "import torch.nn.functional as F\n",
    "class DoubleConv(nn.Module):\n",
    "\n",
    "    def __init__(self, in_channels, out_channels, mid_channels=None):\n",
    "        super().__init__()\n",
    "        if not mid_channels:\n",
    "            mid_channels = out_channels\n",
    "        self.double_conv = nn.Sequential(\n",
    "            nn.Conv2d(in_channels, mid_channels, kernel_size=3, padding=1, bias=False),\n",
    "            nn.BatchNorm2d(mid_channels),\n",
    "            nn.ReLU(inplace=True),\n",
    "            nn.Conv2d(mid_channels, out_channels, kernel_size=3, padding=1, bias=False),\n",
    "            nn.BatchNorm2d(out_channels),\n",
    "            nn.ReLU(inplace=True)\n",
    "        )\n",
    "\n",
    "    def forward(self, x):\n",
    "        return self.double_conv(x)\n",
    "\n",
    "    \n",
    "class Decoder(nn.Module):\n",
    "\n",
    "    def __init__(self, in_channels, out_channels, bilinear=True):\n",
    "        super().__init__()\n",
    "        if bilinear:\n",
    "            self.up1 = nn.Sequential(\n",
    "                nn.Upsample(scale_factor=2, mode='bilinear', align_corners=True),\n",
    "                DoubleConv(in_channels, in_channels // 2),\n",
    "            )\n",
    "            self.up2 = nn.Sequential(\n",
    "                nn.Upsample(scale_factor=2, mode='bilinear', align_corners=True),\n",
    "                DoubleConv(in_channels // 2, out_channels),\n",
    "            )\n",
    "        else:\n",
    "            self.up1 = nn.Sequential(\n",
    "                nn.ConvTranspose2d(in_channels, in_channels // 2, kernel_size=2, stride=2),\n",
    "                DoubleConv(in_channels, in_channels // 2),\n",
    "            )\n",
    "            self.up2 = nn.Sequential(\n",
    "                nn.ConvTranspose2d(in_channels // 2, out_channels // 2, kernel_size=2, stride=2),\n",
    "                DoubleConv(in_channels // 2, out_channels),\n",
    "            )\n",
    "\n",
    "    def forward(self, x):\n",
    "        x = self.up1(x)\n",
    "        x = self.up2(x)\n",
    "        return x\n",
    "\n",
    "\n"
   ]
  },
  {
   "cell_type": "code",
   "execution_count": null,
   "id": "122da9db-07fe-4cd3-ba94-23c28f5fdba0",
   "metadata": {},
   "outputs": [],
   "source": []
  },
  {
   "cell_type": "code",
   "execution_count": null,
   "id": "f9a9cdbf-dfbe-4076-b4f7-312a9f4601d1",
   "metadata": {},
   "outputs": [],
   "source": []
  },
  {
   "cell_type": "code",
   "execution_count": null,
   "id": "3e070284-d154-47ee-ab0f-a8f8b0d21916",
   "metadata": {},
   "outputs": [],
   "source": []
  }
 ],
 "metadata": {
  "kernelspec": {
   "display_name": "Python 3 (ipykernel)",
   "language": "python",
   "name": "python3"
  },
  "language_info": {
   "codemirror_mode": {
    "name": "ipython",
    "version": 3
   },
   "file_extension": ".py",
   "mimetype": "text/x-python",
   "name": "python",
   "nbconvert_exporter": "python",
   "pygments_lexer": "ipython3",
   "version": "3.8.8"
  }
 },
 "nbformat": 4,
 "nbformat_minor": 5
}
